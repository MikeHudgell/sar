{
 "cells": [
  {
   "cell_type": "markdown",
   "metadata": {},
   "source": [
    "Inital script to check the data is all present and correct and to plot some of the crops"
   ]
  },
  {
   "cell_type": "code",
   "execution_count": 1,
   "metadata": {},
   "outputs": [
    {
     "name": "stderr",
     "output_type": "stream",
     "text": [
      "Using TensorFlow backend.\n"
     ]
    }
   ],
   "source": [
    "import matplotlib.pyplot as plt\n",
    "import cv2\n",
    "import os\n",
    "import glob\n",
    "from IPython.display import display, Image\n",
    "import skimage.io\n",
    "import numpy as np\n",
    "import tifffile as t\n"
   ]
  },
  {
   "cell_type": "code",
   "execution_count": 2,
   "metadata": {
    "collapsed": true
   },
   "outputs": [],
   "source": [
    "def list_files(startpath):\n",
    "    print startpath, len([item for item in os.listdir(startpath)])\n",
    "    \n"
   ]
  },
  {
   "cell_type": "code",
   "execution_count": 3,
   "metadata": {},
   "outputs": [
    {
     "name": "stdout",
     "output_type": "stream",
     "text": [
      "/home/ubuntu/data/sar/experiment_crops/train/oil/crops_oil_50x50 500\n",
      "/home/ubuntu/data/sar/experiment_crops/train/other/crops_other_50x50 500\n",
      "/home/ubuntu/data/sar/experiment_crops/train/turbine/crops_turbine_50x50 1000\n",
      "/home/ubuntu/data/sar/experiment_crops/validate/oil/crops_oil_50x50 125\n",
      "/home/ubuntu/data/sar/experiment_crops/validate/other/crops_other_50x50 125\n",
      "/home/ubuntu/data/sar/experiment_crops/validate/turbine/crops_turbine_50x50 250\n"
     ]
    }
   ],
   "source": [
    "root_folder = '/home/ubuntu/data/sar/experiment_crops'\n",
    "list_files(root_folder + \"/train/oil/crops_oil_50x50\")\n",
    "list_files(root_folder + \"/train/other/crops_other_50x50\")\n",
    "list_files(root_folder + \"/train/turbine/crops_turbine_50x50\")\n",
    "list_files(root_folder + \"/validate/oil/crops_oil_50x50\")\n",
    "list_files(root_folder + \"/validate/other/crops_other_50x50\")\n",
    "list_files(root_folder + \"/validate/turbine/crops_turbine_50x50\")"
   ]
  },
  {
   "cell_type": "code",
   "execution_count": 4,
   "metadata": {},
   "outputs": [
    {
     "name": "stdout",
     "output_type": "stream",
     "text": [
      "/home/ubuntu/data/sar/experiment_crops/train/oil/crops_oil_50x50/S1B_IW_GRDH_1SDV_20170301T055652_20170301T055717_004511_007DA6_32F5_terrain_correction_32.tif\n"
     ]
    }
   ],
   "source": [
    "img_dir = root_folder + \"/train/oil/crops_oil_50x50\"\n",
    "rand_img = np.random.choice(glob.glob(img_dir + '/*.tif'))\n",
    "print rand_img\n",
    "\n",
    "# Image(filename=rand_img)"
   ]
  },
  {
   "cell_type": "code",
   "execution_count": 5,
   "metadata": {},
   "outputs": [
    {
     "name": "stderr",
     "output_type": "stream",
     "text": [
      "/usr/local/lib/python2.7/dist-packages/matplotlib/axes/_base.py:2903: UserWarning: Attempting to set identical left==right results\n",
      "in singular transformations; automatically expanding.\n",
      "left=0, right=0\n",
      "  'left=%s, right=%s') % (left, right))\n"
     ]
    },
    {
     "ename": "TypeError",
     "evalue": "imshow() takes at least 1 argument (0 given)",
     "output_type": "error",
     "traceback": [
      "\u001b[0;31m---------------------------------------------------------------------------\u001b[0m",
      "\u001b[0;31mTypeError\u001b[0m                                 Traceback (most recent call last)",
      "\u001b[0;32m<ipython-input-5-41e95e9e811c>\u001b[0m in \u001b[0;36m<module>\u001b[0;34m()\u001b[0m\n\u001b[1;32m      1\u001b[0m \u001b[0mimg\u001b[0m \u001b[0;34m=\u001b[0m \u001b[0mt\u001b[0m\u001b[0;34m.\u001b[0m\u001b[0mimread\u001b[0m\u001b[0;34m(\u001b[0m\u001b[0mrand_img\u001b[0m\u001b[0;34m)\u001b[0m\u001b[0;34m\u001b[0m\u001b[0m\n\u001b[1;32m      2\u001b[0m \u001b[0mt\u001b[0m\u001b[0;34m.\u001b[0m\u001b[0mimshow\u001b[0m\u001b[0;34m(\u001b[0m\u001b[0mimg\u001b[0m\u001b[0;34m)\u001b[0m\u001b[0;34m\u001b[0m\u001b[0m\n\u001b[0;32m----> 3\u001b[0;31m \u001b[0mt\u001b[0m\u001b[0;34m.\u001b[0m\u001b[0mimshow\u001b[0m\u001b[0;34m(\u001b[0m\u001b[0;34m)\u001b[0m\u001b[0;34m\u001b[0m\u001b[0m\n\u001b[0m",
      "\u001b[0;31mTypeError\u001b[0m: imshow() takes at least 1 argument (0 given)"
     ]
    }
   ],
   "source": [
    "img = t.imread(rand_img)\n",
    "t.imshow(img)\n",
    "t.imshow()"
   ]
  },
  {
   "cell_type": "code",
   "execution_count": 6,
   "metadata": {},
   "outputs": [],
   "source": [
    "from PIL import Image\n",
    "im = Image.open(rand_img)\n",
    "im.show()"
   ]
  },
  {
   "cell_type": "code",
   "execution_count": 7,
   "metadata": {
    "collapsed": true
   },
   "outputs": [],
   "source": [
    "import cv2\n"
   ]
  },
  {
   "cell_type": "code",
   "execution_count": null,
   "metadata": {},
   "outputs": [],
   "source": [
    "img = cv2.imread(rand_img,-1)\n",
    "cv2.imshow('16bit TIFF', img)\n",
    "# cv2.waitKey()"
   ]
  },
  {
   "cell_type": "code",
   "execution_count": null,
   "metadata": {
    "collapsed": true
   },
   "outputs": [],
   "source": []
  }
 ],
 "metadata": {
  "kernelspec": {
   "display_name": "Python 2",
   "language": "python",
   "name": "python2"
  },
  "language_info": {
   "codemirror_mode": {
    "name": "ipython",
    "version": 2
   },
   "file_extension": ".py",
   "mimetype": "text/x-python",
   "name": "python",
   "nbconvert_exporter": "python",
   "pygments_lexer": "ipython2",
   "version": "2.7.6"
  }
 },
 "nbformat": 4,
 "nbformat_minor": 2
}
